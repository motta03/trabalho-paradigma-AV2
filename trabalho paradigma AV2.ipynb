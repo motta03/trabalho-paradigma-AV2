{
 "cells": [
  {
   "cell_type": "code",
   "execution_count": 3,
   "id": "bd76a656",
   "metadata": {},
   "outputs": [
    {
     "name": "stdout",
     "output_type": "stream",
     "text": [
      "210.0\n"
     ]
    }
   ],
   "source": [
    "def calculo_de_erea_do_trapezio(B,b,h):\n",
    "    A=((B+b)*h)/2\n",
    "    return A\n",
    "print(calculo_de_erea_do_trapezio(15,20,12))"
   ]
  },
  {
   "cell_type": "code",
   "execution_count": 5,
   "id": "0c9e2209",
   "metadata": {},
   "outputs": [
    {
     "name": "stdout",
     "output_type": "stream",
     "text": [
      "valor da base maior: 15\n",
      "valor da base menor: 20\n",
      "valor da altura: 12\n",
      "a área do trapézio é de: 210.0\n"
     ]
    }
   ],
   "source": [
    "base_maior = float(input('valor da base maior: '))\n",
    "base_menor = float(input('valor da base menor: '))\n",
    "altura = float(input('valor da altura: '))\n",
    "print(f'a área do trapézio é de: {calculo_de_erea_do_trapezio(base_maior,base_menor,altura)}')"
   ]
  },
  {
   "cell_type": "code",
   "execution_count": 7,
   "id": "37c34128",
   "metadata": {},
   "outputs": [
    {
     "name": "stdout",
     "output_type": "stream",
     "text": [
      "110.0\n"
     ]
    }
   ],
   "source": [
    "def  soma_imposto(taxa_imposto,custo):\n",
    "    preco_do_produto = custo + custo * taxa_imposto\n",
    "    return preco_do_produto\n",
    "print(soma_imposto(0.1,100))"
   ]
  },
  {
   "cell_type": "code",
   "execution_count": 9,
   "id": "e0117f4d",
   "metadata": {},
   "outputs": [
    {
     "name": "stdout",
     "output_type": "stream",
     "text": [
      "custo do produto: 100\n",
      "taxa percentual do imposto em decimal exp:0.3: 0.1\n",
      "o valor do produto incluso o imposto é de 110.0\n"
     ]
    }
   ],
   "source": [
    "custo_produto = float(input('custo do produto: '))\n",
    "taxa_do_imposto = float(input('taxa percentual do imposto em decimal exp:0.3: '))\n",
    "print(f'o valor do produto incluso o imposto é de {soma_imposto(taxa_do_imposto,custo_produto)}')"
   ]
  },
  {
   "cell_type": "code",
   "execution_count": 16,
   "id": "cf70b14c",
   "metadata": {},
   "outputs": [
    {
     "name": "stdout",
     "output_type": "stream",
     "text": [
      "Digite a hora: 18\n",
      "Digite os minutos: 30\n",
      "6:30PM\n",
      "Continuar? responda:(sim) ou (não): sim\n",
      "Digite a hora: 10\n",
      "Digite os minutos: 20\n",
      "10:20AM\n",
      "Continuar? responda:(sim) ou (não): sim\n",
      "Digite a hora: 12\n",
      "Digite os minutos: 00\n",
      "12:0PM\n",
      "Continuar? responda:(sim) ou (não): sim\n",
      "Digite a hora: 24\n",
      "Digite os minutos: 20\n",
      "0:20AM\n",
      "Continuar? responda:(sim) ou (não): não\n",
      "até mais\n"
     ]
    }
   ],
   "source": [
    "def converter_hora(hora):\n",
    "    if hora > 12 and hora != 24:\n",
    "        contador = 0\n",
    "        for x in range(hora):\n",
    "            if x >= 12:\n",
    "                contador+=1\n",
    "        return contador\n",
    "    elif hora == 24:\n",
    "        return 0\n",
    "    else:\n",
    "        return hora\n",
    "def converter_hora_am_pm(hora):\n",
    "    if hora >= 12 and hora != 24:\n",
    "        am_pm = 'PM'\n",
    "    elif hora < 12 or hora == 24:\n",
    "        am_pm = 'AM'\n",
    "    return am_pm\n",
    "controle = 'sim'\n",
    "while controle != 'não':\n",
    "    hora = int(input(\"Digite a hora: \"))\n",
    "    minuto = int(input(\"Digite os minutos: \"))\n",
    "    print(f'{converter_hora(hora)}:{minuto}{converter_hora_am_pm(hora)}')\n",
    "    controle = input(\"Continuar? responda:(sim) ou (não): \")\n",
    "print(\"até mais\")"
   ]
  },
  {
   "cell_type": "code",
   "execution_count": null,
   "id": "02592c70",
   "metadata": {},
   "outputs": [],
   "source": []
  }
 ],
 "metadata": {
  "kernelspec": {
   "display_name": "Python 3 (ipykernel)",
   "language": "python",
   "name": "python3"
  },
  "language_info": {
   "codemirror_mode": {
    "name": "ipython",
    "version": 3
   },
   "file_extension": ".py",
   "mimetype": "text/x-python",
   "name": "python",
   "nbconvert_exporter": "python",
   "pygments_lexer": "ipython3",
   "version": "3.9.12"
  }
 },
 "nbformat": 4,
 "nbformat_minor": 5
}
